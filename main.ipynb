{
 "cells": [
  {
   "cell_type": "code",
   "execution_count": 26,
   "id": "a4e37b17-8a1c-433f-a35f-a2385c3b960c",
   "metadata": {},
   "outputs": [
    {
     "name": "stdout",
     "output_type": "stream",
     "text": [
      "        Date  Profit/Losses\n",
      "0   Jan-2010         867884\n",
      "1   Feb-2010         984655\n",
      "2   Mar-2010         322013\n",
      "3   Apr-2010         -69417\n",
      "4   May-2010         310503\n",
      "..       ...            ...\n",
      "81  Oct-2016         102685\n",
      "82  Nov-2016         795914\n",
      "83  Dec-2016          60988\n",
      "84  Jan-2017         138230\n",
      "85  Feb-2017         671099\n",
      "\n",
      "[86 rows x 2 columns]\n"
     ]
    }
   ],
   "source": [
    "import pandas as pd\n",
    "import numpy as np\n",
    "\n",
    "budget = pd.read_csv(r\"C:\\Users\\reide\\OneDrive\\Desktop\\budget_data.csv\")\n",
    "print(budget)"
   ]
  },
  {
   "cell_type": "code",
   "execution_count": 21,
   "id": "6a148bfe-90e7-4b06-8ea6-c4adaad40383",
   "metadata": {},
   "outputs": [
    {
     "name": "stdout",
     "output_type": "stream",
     "text": [
      "Total months: 86\n"
     ]
    }
   ],
   "source": [
    "print(\"Total months:\",\n",
    "      len(budget))\n"
   ]
  },
  {
   "cell_type": "code",
   "execution_count": 51,
   "id": "ed1a9293-9442-43a2-b878-f2182d239883",
   "metadata": {},
   "outputs": [
    {
     "name": "stdout",
     "output_type": "stream",
     "text": [
      "Total: 38382578\n"
     ]
    }
   ],
   "source": [
    "print(\"Total:\",\n",
    "      np.sum(df['Profit/Losses']))"
   ]
  },
  {
   "cell_type": "code",
   "execution_count": null,
   "id": "1535a92c-86cb-4c95-a787-486fe041a075",
   "metadata": {},
   "outputs": [],
   "source": []
  },
  {
   "cell_type": "code",
   "execution_count": null,
   "id": "cbae82e4-d403-4b41-804f-4e25a9945ccf",
   "metadata": {},
   "outputs": [],
   "source": []
  },
  {
   "cell_type": "code",
   "execution_count": null,
   "id": "0d8b506e-c085-47b9-a263-214d84e2b254",
   "metadata": {},
   "outputs": [],
   "source": []
  }
 ],
 "metadata": {
  "kernelspec": {
   "display_name": "Python 3 (ipykernel)",
   "language": "python",
   "name": "python3"
  },
  "language_info": {
   "codemirror_mode": {
    "name": "ipython",
    "version": 3
   },
   "file_extension": ".py",
   "mimetype": "text/x-python",
   "name": "python",
   "nbconvert_exporter": "python",
   "pygments_lexer": "ipython3",
   "version": "3.9.12"
  }
 },
 "nbformat": 4,
 "nbformat_minor": 5
}
